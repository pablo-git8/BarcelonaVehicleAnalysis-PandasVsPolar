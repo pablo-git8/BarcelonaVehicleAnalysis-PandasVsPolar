{
 "cells": [
  {
   "cell_type": "markdown",
   "metadata": {},
   "source": [
    "<h1 style=\"color:#1E90FF; font-weight:bold;\">BTS</h1>\n",
    "<h2 style=\"color:#1E90FF; font-weight:bold;\">MBDS - Big Data & AI</h2>\n",
    "<h3 style=\"color:#1E90FF; font-weight:bold;\">DSF - Assignment 1</h3>\n",
    "<h4 style=\"color:#1E90FF; font-weight:bold;\">Pablo Ruiz Lopez</h4>"
   ]
  },
  {
   "cell_type": "markdown",
   "metadata": {},
   "source": [
    "In this assignment, my primary approach to answering the questions will leverage the pandas library in Python. However, for exploratory, curiosity, experimentation and comparative purposes, I will also employ the [polars python library](https://blog.jetbrains.com/dataspell/2023/08/polars-vs-pandas-what-s-the-difference/#:~:text=Pandas%2C%20by%20default%2C%20uses%20eager,way%20of%20executing%20the%20code.) to provide alternative solutions. \n",
    "\n",
    "**NOTE:** As part of this comparisson, you will see the magic command `%%time` at the beginning of each cell in order to evaluate differences in execution times between solutions."
   ]
  },
  {
   "cell_type": "markdown",
   "metadata": {},
   "source": [
    "_But why consider using [polars](https://www.pola.rs/)?_\n",
    "\n",
    "**Performance:** Superior performance compared to pandas, especially when dealing with large datasets. Crafted in Rust and optimized for parallel execution, polars ensures rapid operations, enhancing efficiency.\n",
    "\n",
    "**Memory Efficiency:** Polars is recognized for its memory optimization. It utilizes resources effectively, making it a preferable option for tasks involving substantial data volumes.\n",
    "\n",
    "**Functionality:** Eventhough polars is still in its nascent stages. While it aspires to mirror the functionality of pandas, it may not yet boast the comprehensive features or the extensive community and third-party support that pandas enjoys.\n",
    "\n",
    "**Compatibility:** Interoperability between polars and pandas is another advantage. We can convert DataFrames between the two libraries. This flexibility is instrumental when looking to harness polars for intensive computations while relying on pandas for specific, nuanced features."
   ]
  },
  {
   "cell_type": "markdown",
   "metadata": {},
   "source": [
    "**In Essence:**\n",
    "\n",
    "The decision to utilize either [polars or pandas](https://medium.com/cuenex/pandas-2-0-vs-polars-the-ultimate-battle-a378eb75d6d1) hinges on distinct project requisites, such as performance imperatives, dataset dimensions, or the affinity for a specific API. Both libraries are tailored for intricate data manipulation and analytical tasks, each presenting unique advantages that cater to diverse computational and analytical needs."
   ]
  },
  {
   "cell_type": "markdown",
   "metadata": {},
   "source": [
    "<div style=\"text-align: center;\">\n",
    "    <img src=\"https://images.datacamp.com/image/upload/v1686564840/datarhys_an_absurdist_oil_painting_of_a_cyborg_panda_and_a_cybo_c7deba5e_79f3_498a_ada9_381d6fe0b77a_b943fa043f.png\" width=\"500\">\n",
    "</div>\n",
    "\n",
    "<div style=\"text-align: center;\">\n",
    "    <a href=\"https://www.datacamp.com/tutorial/high-performance-data-manipulation-in-python-pandas2-vs-polars\">Click HERE for a great library comparison</a>\n",
    "</div>"
   ]
  },
  {
   "cell_type": "code",
   "execution_count": 1,
   "metadata": {},
   "outputs": [],
   "source": [
    "# Imports\n",
    "\n",
    "import pandas as pd\n",
    "import polars as pl"
   ]
  },
  {
   "cell_type": "code",
   "execution_count": 2,
   "metadata": {},
   "outputs": [],
   "source": [
    "# Loading the dataset into a pandas DataFrame\n",
    "# Using pandas to load the data first due to an error in Polars when parsing the 'Codi_Districte' column as an integer\n",
    "df_pd = pd.read_csv('2020_antiguitat_tipus_vehicle.csv')\n",
    "\n",
    "# Converting the pandas DataFrame to a polars DataFrame\n",
    "# Work around for the parsing issue\n",
    "df_pl = pl.from_pandas(df_pd)"
   ]
  },
  {
   "cell_type": "markdown",
   "metadata": {},
   "source": [
    "#### **Basic Data Exploration**"
   ]
  },
  {
   "cell_type": "code",
   "execution_count": 3,
   "metadata": {},
   "outputs": [
    {
     "name": "stdout",
     "output_type": "stream",
     "text": [
      "<class 'pandas.core.frame.DataFrame'>\n",
      "RangeIndex: 52977 entries, 0 to 52976\n",
      "Data columns (total 9 columns):\n",
      " #   Column          Non-Null Count  Dtype \n",
      "---  ------          --------------  ----- \n",
      " 0   Any             52977 non-null  int64 \n",
      " 1   Codi_Districte  52977 non-null  object\n",
      " 2   Nom_Districte   52977 non-null  object\n",
      " 3   Codi_Barri      52977 non-null  object\n",
      " 4   Nom_Barri       52977 non-null  object\n",
      " 5   Seccio_Censal   52977 non-null  object\n",
      " 6   Tipus_Vehicles  52977 non-null  object\n",
      " 7   Antiguitat      52977 non-null  object\n",
      " 8   Nombre          52977 non-null  int64 \n",
      "dtypes: int64(2), object(7)\n",
      "memory usage: 3.6+ MB\n"
     ]
    }
   ],
   "source": [
    "# Information about the columns, data types and values\n",
    "df_pd.info()"
   ]
  },
  {
   "cell_type": "code",
   "execution_count": 4,
   "metadata": {},
   "outputs": [
    {
     "data": {
      "text/html": [
       "<div><style>\n",
       ".dataframe > thead > tr > th,\n",
       ".dataframe > tbody > tr > td {\n",
       "  text-align: right;\n",
       "  white-space: pre-wrap;\n",
       "}\n",
       "</style>\n",
       "<small>shape: (5, 9)</small><table border=\"1\" class=\"dataframe\"><thead><tr><th>Any</th><th>Codi_Districte</th><th>Nom_Districte</th><th>Codi_Barri</th><th>Nom_Barri</th><th>Seccio_Censal</th><th>Tipus_Vehicles</th><th>Antiguitat</th><th>Nombre</th></tr><tr><td>i64</td><td>str</td><td>str</td><td>str</td><td>str</td><td>str</td><td>str</td><td>str</td><td>i64</td></tr></thead><tbody><tr><td>2020</td><td>&quot;1&quot;</td><td>&quot;Ciutat Vella&quot;</td><td>&quot;1&quot;</td><td>&quot;el Raval&quot;</td><td>&quot;1&quot;</td><td>&quot;Turismes&quot;</td><td>&quot;Menys d&#x27;un any…</td><td>11</td></tr><tr><td>2020</td><td>&quot;1&quot;</td><td>&quot;Ciutat Vella&quot;</td><td>&quot;1&quot;</td><td>&quot;el Raval&quot;</td><td>&quot;1&quot;</td><td>&quot;Turismes&quot;</td><td>&quot;1 any&quot;</td><td>23</td></tr><tr><td>2020</td><td>&quot;1&quot;</td><td>&quot;Ciutat Vella&quot;</td><td>&quot;1&quot;</td><td>&quot;el Raval&quot;</td><td>&quot;1&quot;</td><td>&quot;Turismes&quot;</td><td>&quot;2 anys&quot;</td><td>11</td></tr><tr><td>2020</td><td>&quot;1&quot;</td><td>&quot;Ciutat Vella&quot;</td><td>&quot;1&quot;</td><td>&quot;el Raval&quot;</td><td>&quot;1&quot;</td><td>&quot;Turismes&quot;</td><td>&quot;3 anys&quot;</td><td>18</td></tr><tr><td>2020</td><td>&quot;1&quot;</td><td>&quot;Ciutat Vella&quot;</td><td>&quot;1&quot;</td><td>&quot;el Raval&quot;</td><td>&quot;1&quot;</td><td>&quot;Turismes&quot;</td><td>&quot;4 anys&quot;</td><td>17</td></tr></tbody></table></div>"
      ],
      "text/plain": [
       "shape: (5, 9)\n",
       "┌──────┬─────────────┬────────────┬────────────┬───┬────────────┬────────────┬────────────┬────────┐\n",
       "│ Any  ┆ Codi_Distri ┆ Nom_Distri ┆ Codi_Barri ┆ … ┆ Seccio_Cen ┆ Tipus_Vehi ┆ Antiguitat ┆ Nombre │\n",
       "│ ---  ┆ cte         ┆ cte        ┆ ---        ┆   ┆ sal        ┆ cles       ┆ ---        ┆ ---    │\n",
       "│ i64  ┆ ---         ┆ ---        ┆ str        ┆   ┆ ---        ┆ ---        ┆ str        ┆ i64    │\n",
       "│      ┆ str         ┆ str        ┆            ┆   ┆ str        ┆ str        ┆            ┆        │\n",
       "╞══════╪═════════════╪════════════╪════════════╪═══╪════════════╪════════════╪════════════╪════════╡\n",
       "│ 2020 ┆ 1           ┆ Ciutat     ┆ 1          ┆ … ┆ 1          ┆ Turismes   ┆ Menys d'un ┆ 11     │\n",
       "│      ┆             ┆ Vella      ┆            ┆   ┆            ┆            ┆ any d'anti ┆        │\n",
       "│      ┆             ┆            ┆            ┆   ┆            ┆            ┆ guitat     ┆        │\n",
       "│ 2020 ┆ 1           ┆ Ciutat     ┆ 1          ┆ … ┆ 1          ┆ Turismes   ┆ 1 any      ┆ 23     │\n",
       "│      ┆             ┆ Vella      ┆            ┆   ┆            ┆            ┆            ┆        │\n",
       "│ 2020 ┆ 1           ┆ Ciutat     ┆ 1          ┆ … ┆ 1          ┆ Turismes   ┆ 2 anys     ┆ 11     │\n",
       "│      ┆             ┆ Vella      ┆            ┆   ┆            ┆            ┆            ┆        │\n",
       "│ 2020 ┆ 1           ┆ Ciutat     ┆ 1          ┆ … ┆ 1          ┆ Turismes   ┆ 3 anys     ┆ 18     │\n",
       "│      ┆             ┆ Vella      ┆            ┆   ┆            ┆            ┆            ┆        │\n",
       "│ 2020 ┆ 1           ┆ Ciutat     ┆ 1          ┆ … ┆ 1          ┆ Turismes   ┆ 4 anys     ┆ 17     │\n",
       "│      ┆             ┆ Vella      ┆            ┆   ┆            ┆            ┆            ┆        │\n",
       "└──────┴─────────────┴────────────┴────────────┴───┴────────────┴────────────┴────────────┴────────┘"
      ]
     },
     "execution_count": 4,
     "metadata": {},
     "output_type": "execute_result"
    }
   ],
   "source": [
    "# Displaying the 5 first records using polars\n",
    "df_pl.head()"
   ]
  },
  {
   "cell_type": "code",
   "execution_count": 5,
   "metadata": {},
   "outputs": [
    {
     "data": {
      "text/html": [
       "<div><style>\n",
       ".dataframe > thead > tr > th,\n",
       ".dataframe > tbody > tr > td {\n",
       "  text-align: right;\n",
       "  white-space: pre-wrap;\n",
       "}\n",
       "</style>\n",
       "<small>shape: (11,)</small><table border=\"1\" class=\"dataframe\"><thead><tr><th>Codi_Districte</th></tr><tr><td>str</td></tr></thead><tbody><tr><td>&quot;6&quot;</td></tr><tr><td>&quot;1&quot;</td></tr><tr><td>&quot;9&quot;</td></tr><tr><td>&quot;3&quot;</td></tr><tr><td>&quot;NC&quot;</td></tr><tr><td>&quot;7&quot;</td></tr><tr><td>&quot;5&quot;</td></tr><tr><td>&quot;10&quot;</td></tr><tr><td>&quot;4&quot;</td></tr><tr><td>&quot;8&quot;</td></tr><tr><td>&quot;2&quot;</td></tr></tbody></table></div>"
      ],
      "text/plain": [
       "shape: (11,)\n",
       "Series: 'Codi_Districte' [str]\n",
       "[\n",
       "\t\"6\"\n",
       "\t\"1\"\n",
       "\t\"9\"\n",
       "\t\"3\"\n",
       "\t\"NC\"\n",
       "\t\"7\"\n",
       "\t\"5\"\n",
       "\t\"10\"\n",
       "\t\"4\"\n",
       "\t\"8\"\n",
       "\t\"2\"\n",
       "]"
      ]
     },
     "execution_count": 5,
     "metadata": {},
     "output_type": "execute_result"
    }
   ],
   "source": [
    "# The NC value is the one non-parsable as int64\n",
    "df_pl['Codi_Districte'].unique()"
   ]
  },
  {
   "cell_type": "markdown",
   "metadata": {},
   "source": [
    "### **Question #1**\n",
    "\n",
    "What is the total number of vehicles in Barcelona? (number of cars is in field Nombre) (10 points)\n"
   ]
  },
  {
   "cell_type": "code",
   "execution_count": 6,
   "metadata": {},
   "outputs": [
    {
     "name": "stdout",
     "output_type": "stream",
     "text": [
      "Wall time: 0 ns\n"
     ]
    },
    {
     "data": {
      "text/plain": [
       "822211"
      ]
     },
     "execution_count": 6,
     "metadata": {},
     "output_type": "execute_result"
    }
   ],
   "source": [
    "%%time\n",
    "# Pandas solution\n",
    "\n",
    "# Computing the sum of 'Nombre' \n",
    "df_pd['Nombre'].sum()"
   ]
  },
  {
   "cell_type": "code",
   "execution_count": 7,
   "metadata": {},
   "outputs": [
    {
     "name": "stdout",
     "output_type": "stream",
     "text": [
      "Wall time: 0 ns\n"
     ]
    },
    {
     "data": {
      "text/plain": [
       "822211"
      ]
     },
     "execution_count": 7,
     "metadata": {},
     "output_type": "execute_result"
    }
   ],
   "source": [
    "%%time \n",
    "# Polars solution\n",
    "\n",
    "# Computing the sum of 'Nombre' \n",
    "df_pl['Nombre'].sum()"
   ]
  },
  {
   "cell_type": "markdown",
   "metadata": {},
   "source": [
    "**A:** There are **822,211** vehicles in Barcelona registered in 2020. "
   ]
  },
  {
   "cell_type": "markdown",
   "metadata": {},
   "source": [
    "### **Question #2**\n",
    "\n",
    "What is the the number of vehicles by type (Tipus_Vehicles). 2 columns, 'Tipus_Vehicles' and the total vehicles for that type. (hint: groupby) (10 points)"
   ]
  },
  {
   "cell_type": "code",
   "execution_count": 8,
   "metadata": {},
   "outputs": [
    {
     "name": "stdout",
     "output_type": "stream",
     "text": [
      "Wall time: 8.84 ms\n"
     ]
    },
    {
     "data": {
      "text/html": [
       "<div>\n",
       "<style scoped>\n",
       "    .dataframe tbody tr th:only-of-type {\n",
       "        vertical-align: middle;\n",
       "    }\n",
       "\n",
       "    .dataframe tbody tr th {\n",
       "        vertical-align: top;\n",
       "    }\n",
       "\n",
       "    .dataframe thead th {\n",
       "        text-align: right;\n",
       "    }\n",
       "</style>\n",
       "<table border=\"1\" class=\"dataframe\">\n",
       "  <thead>\n",
       "    <tr style=\"text-align: right;\">\n",
       "      <th></th>\n",
       "      <th>Tipus_Vehicles</th>\n",
       "      <th>Nombre</th>\n",
       "    </tr>\n",
       "  </thead>\n",
       "  <tbody>\n",
       "    <tr>\n",
       "      <th>0</th>\n",
       "      <td>Altres vehicles</td>\n",
       "      <td>17285</td>\n",
       "    </tr>\n",
       "    <tr>\n",
       "      <th>1</th>\n",
       "      <td>Camions</td>\n",
       "      <td>15344</td>\n",
       "    </tr>\n",
       "    <tr>\n",
       "      <th>2</th>\n",
       "      <td>Ciclomotors</td>\n",
       "      <td>51536</td>\n",
       "    </tr>\n",
       "    <tr>\n",
       "      <th>3</th>\n",
       "      <td>Furgonetes</td>\n",
       "      <td>39177</td>\n",
       "    </tr>\n",
       "    <tr>\n",
       "      <th>4</th>\n",
       "      <td>Motos</td>\n",
       "      <td>219554</td>\n",
       "    </tr>\n",
       "    <tr>\n",
       "      <th>5</th>\n",
       "      <td>Turismes</td>\n",
       "      <td>479315</td>\n",
       "    </tr>\n",
       "  </tbody>\n",
       "</table>\n",
       "</div>"
      ],
      "text/plain": [
       "    Tipus_Vehicles  Nombre\n",
       "0  Altres vehicles   17285\n",
       "1          Camions   15344\n",
       "2      Ciclomotors   51536\n",
       "3       Furgonetes   39177\n",
       "4            Motos  219554\n",
       "5         Turismes  479315"
      ]
     },
     "execution_count": 8,
     "metadata": {},
     "output_type": "execute_result"
    }
   ],
   "source": [
    "%%time \n",
    "# Pandas solution\n",
    "\n",
    "# Grouping by type of vehicle and computing the sum of 'Nombre'\n",
    "df_pd.groupby('Tipus_Vehicles', as_index = False)['Nombre'] \\\n",
    "        .sum()"
   ]
  },
  {
   "cell_type": "code",
   "execution_count": 9,
   "metadata": {},
   "outputs": [
    {
     "name": "stdout",
     "output_type": "stream",
     "text": [
      "Wall time: 43.5 ms\n"
     ]
    },
    {
     "data": {
      "text/html": [
       "<div><style>\n",
       ".dataframe > thead > tr > th,\n",
       ".dataframe > tbody > tr > td {\n",
       "  text-align: right;\n",
       "  white-space: pre-wrap;\n",
       "}\n",
       "</style>\n",
       "<small>shape: (6, 2)</small><table border=\"1\" class=\"dataframe\"><thead><tr><th>Tipus_Vehicles</th><th>Nombre</th></tr><tr><td>str</td><td>i64</td></tr></thead><tbody><tr><td>&quot;Camions&quot;</td><td>15344</td></tr><tr><td>&quot;Ciclomotors&quot;</td><td>51536</td></tr><tr><td>&quot;Altres vehicle…</td><td>17285</td></tr><tr><td>&quot;Turismes&quot;</td><td>479315</td></tr><tr><td>&quot;Furgonetes&quot;</td><td>39177</td></tr><tr><td>&quot;Motos&quot;</td><td>219554</td></tr></tbody></table></div>"
      ],
      "text/plain": [
       "shape: (6, 2)\n",
       "┌─────────────────┬────────┐\n",
       "│ Tipus_Vehicles  ┆ Nombre │\n",
       "│ ---             ┆ ---    │\n",
       "│ str             ┆ i64    │\n",
       "╞═════════════════╪════════╡\n",
       "│ Camions         ┆ 15344  │\n",
       "│ Ciclomotors     ┆ 51536  │\n",
       "│ Altres vehicles ┆ 17285  │\n",
       "│ Turismes        ┆ 479315 │\n",
       "│ Furgonetes      ┆ 39177  │\n",
       "│ Motos           ┆ 219554 │\n",
       "└─────────────────┴────────┘"
      ]
     },
     "execution_count": 9,
     "metadata": {},
     "output_type": "execute_result"
    }
   ],
   "source": [
    "%%time \n",
    "# Polars solution\n",
    "\n",
    "# Grouping by type of vehicle and computing the sum of 'Nombre' using aggregation function\n",
    "df_pl.group_by('Tipus_Vehicles') \\\n",
    "        .agg(pl.col('Nombre').sum())"
   ]
  },
  {
   "cell_type": "markdown",
   "metadata": {},
   "source": [
    "### **Question #3**\n",
    "How many vehicles (any type) with age (Antiguitat) >= 10 years do we have in district ('Nom_Districte') Eixample? (10 points)"
   ]
  },
  {
   "cell_type": "code",
   "execution_count": 10,
   "metadata": {},
   "outputs": [
    {
     "data": {
      "text/html": [
       "<div><style>\n",
       ".dataframe > thead > tr > th,\n",
       ".dataframe > tbody > tr > td {\n",
       "  text-align: right;\n",
       "  white-space: pre-wrap;\n",
       "}\n",
       "</style>\n",
       "<small>shape: (14,)</small><table border=\"1\" class=\"dataframe\"><thead><tr><th>Antiguitat</th></tr><tr><td>str</td></tr></thead><tbody><tr><td>&quot;Menys d&#x27;un any…</td></tr><tr><td>&quot;2 anys&quot;</td></tr><tr><td>&quot;1 any&quot;</td></tr><tr><td>&quot;7 anys&quot;</td></tr><tr><td>&quot;5 anys&quot;</td></tr><tr><td>&quot;10 anys&quot;</td></tr><tr><td>&quot;3 anys&quot;</td></tr><tr><td>&quot;Més de 20 anys…</td></tr><tr><td>&quot;8 anys&quot;</td></tr><tr><td>&quot;D&#x27;11 a 20 anys…</td></tr><tr><td>&quot;6 anys&quot;</td></tr><tr><td>&quot;9 anys&quot;</td></tr><tr><td>&quot;4 anys&quot;</td></tr><tr><td>&quot;No consta&quot;</td></tr></tbody></table></div>"
      ],
      "text/plain": [
       "shape: (14,)\n",
       "Series: 'Antiguitat' [str]\n",
       "[\n",
       "\t\"Menys d'un any…\n",
       "\t\"2 anys\"\n",
       "\t\"1 any\"\n",
       "\t\"7 anys\"\n",
       "\t\"5 anys\"\n",
       "\t\"10 anys\"\n",
       "\t\"3 anys\"\n",
       "\t\"Més de 20 anys…\n",
       "\t\"8 anys\"\n",
       "\t\"D'11 a 20 anys…\n",
       "\t\"6 anys\"\n",
       "\t\"9 anys\"\n",
       "\t\"4 anys\"\n",
       "\t\"No consta\"\n",
       "]"
      ]
     },
     "execution_count": 10,
     "metadata": {},
     "output_type": "execute_result"
    }
   ],
   "source": [
    "# Unique values included in 'Antiguitat' column\n",
    "df_pl['Antiguitat'].unique()"
   ]
  },
  {
   "cell_type": "markdown",
   "metadata": {},
   "source": [
    "`Antiguitat` values depicting 10 or more years:\n",
    "\n",
    "* \"10 anys\": 10 years\n",
    "* \"D'11 a 20 anys\": from 11 to 20 years\n",
    "* \"Més de 20 anys\": more than 20 years"
   ]
  },
  {
   "cell_type": "code",
   "execution_count": 11,
   "metadata": {},
   "outputs": [
    {
     "name": "stdout",
     "output_type": "stream",
     "text": [
      "Wall time: 8.04 ms\n"
     ]
    },
    {
     "data": {
      "text/plain": [
       "75524"
      ]
     },
     "execution_count": 11,
     "metadata": {},
     "output_type": "execute_result"
    }
   ],
   "source": [
    "%%time\n",
    "# Pandas solution\n",
    "\n",
    "# Filtering based on 'Antiguitat' and 'Nom_Districte'\n",
    "df_pd[\n",
    "      (df_pd['Antiguitat'].isin([\"10 anys\", \"D'11 a 20 anys\", \"Més de 20 anys\"])) &\n",
    "      (df_pd['Nom_Districte'] == 'Eixample')\n",
    "     ]['Nombre'].sum() # Computing the sum of the 'Nombre' column"
   ]
  },
  {
   "cell_type": "code",
   "execution_count": 12,
   "metadata": {},
   "outputs": [
    {
     "name": "stdout",
     "output_type": "stream",
     "text": [
      "Wall time: 8.01 ms\n"
     ]
    },
    {
     "name": "stderr",
     "output_type": "stream",
     "text": [
      "<timed eval>:5: DeprecationWarning: Behavior for `lit` will change for sequence inputs. The result will change to be a literal of type List. To retain the old behavior, pass a Series instead, e.g. `Series(sequence)`.\n"
     ]
    },
    {
     "data": {
      "text/plain": [
       "75524"
      ]
     },
     "execution_count": 12,
     "metadata": {},
     "output_type": "execute_result"
    }
   ],
   "source": [
    "%%time\n",
    "# Polars solution\n",
    "\n",
    "# Filtering based on 'Antiguitat' and 'Nom_Districte'\n",
    "df_pl.filter(\n",
    "        (df_pl['Antiguitat'].is_in(pl.lit([\"10 anys\", \"D'11 a 20 anys\", \"Més de 20 anys\"]))) &\n",
    "        (df_pl['Nom_Districte'] == 'Eixample')\n",
    "            )['Nombre'].sum() # Computing the sum of the 'Nombre' column"
   ]
  },
  {
   "cell_type": "markdown",
   "metadata": {},
   "source": [
    "**A:** In Eixample District, there were **75,524** vehicles that are older or 10 years old regostered in 2020."
   ]
  },
  {
   "cell_type": "markdown",
   "metadata": {},
   "source": [
    "### **Question #4**\n",
    "\n",
    "What are the distinct neighbourhood names ('Nom_Barri') for the District ('Nom_Districte') 'Nou Barris'? (10 points)"
   ]
  },
  {
   "cell_type": "code",
   "execution_count": 13,
   "metadata": {},
   "outputs": [
    {
     "name": "stdout",
     "output_type": "stream",
     "text": [
      "Wall time: 0 ns\n"
     ]
    },
    {
     "data": {
      "text/plain": [
       "array(['Vilapicina i la Torre Llobeta', 'Porta', 'el Turó de la Peira',\n",
       "       'Can Peguera', 'la Guineueta', 'Canyelles', 'les Roquetes',\n",
       "       'Verdun', 'la Prosperitat', 'la Trinitat Nova', 'Torre Baró',\n",
       "       'Ciutat Meridiana', 'Vallbona'], dtype=object)"
      ]
     },
     "execution_count": 13,
     "metadata": {},
     "output_type": "execute_result"
    }
   ],
   "source": [
    "%%time\n",
    "# Pandas solution\n",
    "\n",
    "# Filter DataFrame where 'Nom_Districte' is equal to 'Nou Barris'\n",
    "df_pd['Nom_Barri'][df_pd['Nom_Districte'] == 'Nou Barris'] \\\n",
    "    .unique() # Unique 'Nom_Barri' values"
   ]
  },
  {
   "cell_type": "code",
   "execution_count": 14,
   "metadata": {},
   "outputs": [
    {
     "name": "stdout",
     "output_type": "stream",
     "text": [
      "Wall time: 0 ns\n"
     ]
    },
    {
     "data": {
      "text/html": [
       "<div><style>\n",
       ".dataframe > thead > tr > th,\n",
       ".dataframe > tbody > tr > td {\n",
       "  text-align: right;\n",
       "  white-space: pre-wrap;\n",
       "}\n",
       "</style>\n",
       "<small>shape: (13,)</small><table border=\"1\" class=\"dataframe\"><thead><tr><th>Nom_Barri</th></tr><tr><td>str</td></tr></thead><tbody><tr><td>&quot;Torre Baró&quot;</td></tr><tr><td>&quot;Can Peguera&quot;</td></tr><tr><td>&quot;la Guineueta&quot;</td></tr><tr><td>&quot;Ciutat Meridia…</td></tr><tr><td>&quot;la Trinitat No…</td></tr><tr><td>&quot;Verdun&quot;</td></tr><tr><td>&quot;Canyelles&quot;</td></tr><tr><td>&quot;la Prosperitat…</td></tr><tr><td>&quot;Vilapicina i l…</td></tr><tr><td>&quot;el Turó de la …</td></tr><tr><td>&quot;Porta&quot;</td></tr><tr><td>&quot;les Roquetes&quot;</td></tr><tr><td>&quot;Vallbona&quot;</td></tr></tbody></table></div>"
      ],
      "text/plain": [
       "shape: (13,)\n",
       "Series: 'Nom_Barri' [str]\n",
       "[\n",
       "\t\"Torre Baró\"\n",
       "\t\"Can Peguera\"\n",
       "\t\"la Guineueta\"\n",
       "\t\"Ciutat Meridia…\n",
       "\t\"la Trinitat No…\n",
       "\t\"Verdun\"\n",
       "\t\"Canyelles\"\n",
       "\t\"la Prosperitat…\n",
       "\t\"Vilapicina i l…\n",
       "\t\"el Turó de la …\n",
       "\t\"Porta\"\n",
       "\t\"les Roquetes\"\n",
       "\t\"Vallbona\"\n",
       "]"
      ]
     },
     "execution_count": 14,
     "metadata": {},
     "output_type": "execute_result"
    }
   ],
   "source": [
    "%%time\n",
    "# Polars Solution\n",
    "\n",
    "# Filter DataFrame where 'Nom_Districte' is equal to 'Nou Barris'\n",
    "df_pl.filter(df_pl['Nom_Districte'] == 'Nou Barris')['Nom_Barri'] \\\n",
    "    .unique()\n"
   ]
  },
  {
   "cell_type": "markdown",
   "metadata": {},
   "source": [
    "### **Question #5**\n",
    "\n",
    "What is the neighbourhood (‘Nom_Barri’) with more trucks (‘Camions’)? And how many trucks does it have? Look at the documentation for [function groupby in Pandas](https://pandas.pydata.org/docs/reference/api/pandas.DataFrame.groupby.html), parameter `as_index` to get the result as a dataframe instead of a series. (15 points)"
   ]
  },
  {
   "cell_type": "code",
   "execution_count": 15,
   "metadata": {},
   "outputs": [
    {
     "name": "stdout",
     "output_type": "stream",
     "text": [
      "Wall time: 11.4 ms\n"
     ]
    },
    {
     "data": {
      "text/html": [
       "<div>\n",
       "<style scoped>\n",
       "    .dataframe tbody tr th:only-of-type {\n",
       "        vertical-align: middle;\n",
       "    }\n",
       "\n",
       "    .dataframe tbody tr th {\n",
       "        vertical-align: top;\n",
       "    }\n",
       "\n",
       "    .dataframe thead th {\n",
       "        text-align: right;\n",
       "    }\n",
       "</style>\n",
       "<table border=\"1\" class=\"dataframe\">\n",
       "  <thead>\n",
       "    <tr style=\"text-align: right;\">\n",
       "      <th></th>\n",
       "      <th>Nom_Barri</th>\n",
       "      <th>Nombre</th>\n",
       "    </tr>\n",
       "  </thead>\n",
       "  <tbody>\n",
       "    <tr>\n",
       "      <th>57</th>\n",
       "      <td>la Marina del Prat Vermell - AEI Zona Franca</td>\n",
       "      <td>2059</td>\n",
       "    </tr>\n",
       "  </tbody>\n",
       "</table>\n",
       "</div>"
      ],
      "text/plain": [
       "                                       Nom_Barri  Nombre\n",
       "57  la Marina del Prat Vermell - AEI Zona Franca    2059"
      ]
     },
     "execution_count": 15,
     "metadata": {},
     "output_type": "execute_result"
    }
   ],
   "source": [
    "%%time\n",
    "# Pandas solution\n",
    "\n",
    "# Filter DataFrame where 'Tipus_Vehicles' is 'Camions', then group by 'Nom_Barri', and sum 'Nombre'\n",
    "df_pd_filtered_grouped = df_pd[df_pd['Tipus_Vehicles'] == 'Camions'] \\\n",
    "                                .groupby('Nom_Barri', as_index=False)['Nombre'] \\\n",
    "                                .sum()\n",
    "\n",
    "# Get the neighborhood with the maximum 'Nombre'\n",
    "df_pd_filtered_grouped.loc[[df_pd_filtered_grouped['Nombre'].idxmax()]]\n"
   ]
  },
  {
   "cell_type": "code",
   "execution_count": 16,
   "metadata": {},
   "outputs": [
    {
     "name": "stdout",
     "output_type": "stream",
     "text": [
      "shape: (1, 2)\n",
      "┌───────────────────────────────────┬────────┐\n",
      "│ Nom_Barri                         ┆ Nombre │\n",
      "│ ---                               ┆ ---    │\n",
      "│ str                               ┆ i64    │\n",
      "╞═══════════════════════════════════╪════════╡\n",
      "│ la Marina del Prat Vermell - AEI… ┆ 2059   │\n",
      "└───────────────────────────────────┴────────┘\n",
      "Wall time: 40 ms\n"
     ]
    }
   ],
   "source": [
    "%%time\n",
    "# Polars Solution\n",
    "\n",
    "# Filter DataFrame where 'Tipus_Vehicles' is 'Camions', then group by 'Nom_Barri', and sum 'Nombre'\n",
    "df_pl_filtered_grouped = df_pl.filter(df_pl['Tipus_Vehicles'] == 'Camions') \\\n",
    "                              .group_by('Nom_Barri') \\\n",
    "                              .agg(pl.col('Nombre').sum().alias('Nombre'))\n",
    "\n",
    "# Get the row with the maximum 'Nombre'\n",
    "print(df_pl_filtered_grouped.sort(pl.col('Nombre'), descending=True) \\\n",
    "                      .slice(0, 1))  # This will get the first row of the sorted DataFrame\n"
   ]
  },
  {
   "cell_type": "markdown",
   "metadata": {},
   "source": [
    "### **Question #6**\n",
    "Rewrite the following pandas code snippet without the unction isin() (just & -AND-, | -OR- logical operators in the filter) (hint: be careful with parenthesis) (15 points)."
   ]
  },
  {
   "cell_type": "code",
   "execution_count": 17,
   "metadata": {},
   "outputs": [
    {
     "data": {
      "text/html": [
       "<div>\n",
       "<style scoped>\n",
       "    .dataframe tbody tr th:only-of-type {\n",
       "        vertical-align: middle;\n",
       "    }\n",
       "\n",
       "    .dataframe tbody tr th {\n",
       "        vertical-align: top;\n",
       "    }\n",
       "\n",
       "    .dataframe thead th {\n",
       "        text-align: right;\n",
       "    }\n",
       "</style>\n",
       "<table border=\"1\" class=\"dataframe\">\n",
       "  <thead>\n",
       "    <tr style=\"text-align: right;\">\n",
       "      <th></th>\n",
       "      <th>Any</th>\n",
       "      <th>Codi_Districte</th>\n",
       "      <th>Nom_Districte</th>\n",
       "      <th>Codi_Barri</th>\n",
       "      <th>Nom_Barri</th>\n",
       "      <th>Seccio_Censal</th>\n",
       "      <th>Tipus_Vehicles</th>\n",
       "      <th>Antiguitat</th>\n",
       "      <th>Nombre</th>\n",
       "    </tr>\n",
       "  </thead>\n",
       "  <tbody>\n",
       "    <tr>\n",
       "      <th>10</th>\n",
       "      <td>2020</td>\n",
       "      <td>1</td>\n",
       "      <td>Ciutat Vella</td>\n",
       "      <td>1</td>\n",
       "      <td>el Raval</td>\n",
       "      <td>1</td>\n",
       "      <td>Turismes</td>\n",
       "      <td>10 anys</td>\n",
       "      <td>15</td>\n",
       "    </tr>\n",
       "    <tr>\n",
       "      <th>11</th>\n",
       "      <td>2020</td>\n",
       "      <td>1</td>\n",
       "      <td>Ciutat Vella</td>\n",
       "      <td>1</td>\n",
       "      <td>el Raval</td>\n",
       "      <td>1</td>\n",
       "      <td>Turismes</td>\n",
       "      <td>D'11 a 20 anys</td>\n",
       "      <td>132</td>\n",
       "    </tr>\n",
       "    <tr>\n",
       "      <th>12</th>\n",
       "      <td>2020</td>\n",
       "      <td>1</td>\n",
       "      <td>Ciutat Vella</td>\n",
       "      <td>1</td>\n",
       "      <td>el Raval</td>\n",
       "      <td>1</td>\n",
       "      <td>Turismes</td>\n",
       "      <td>Més de 20 anys</td>\n",
       "      <td>70</td>\n",
       "    </tr>\n",
       "    <tr>\n",
       "      <th>72</th>\n",
       "      <td>2020</td>\n",
       "      <td>1</td>\n",
       "      <td>Ciutat Vella</td>\n",
       "      <td>1</td>\n",
       "      <td>el Raval</td>\n",
       "      <td>2</td>\n",
       "      <td>Turismes</td>\n",
       "      <td>10 anys</td>\n",
       "      <td>5</td>\n",
       "    </tr>\n",
       "    <tr>\n",
       "      <th>73</th>\n",
       "      <td>2020</td>\n",
       "      <td>1</td>\n",
       "      <td>Ciutat Vella</td>\n",
       "      <td>1</td>\n",
       "      <td>el Raval</td>\n",
       "      <td>2</td>\n",
       "      <td>Turismes</td>\n",
       "      <td>D'11 a 20 anys</td>\n",
       "      <td>90</td>\n",
       "    </tr>\n",
       "    <tr>\n",
       "      <th>...</th>\n",
       "      <td>...</td>\n",
       "      <td>...</td>\n",
       "      <td>...</td>\n",
       "      <td>...</td>\n",
       "      <td>...</td>\n",
       "      <td>...</td>\n",
       "      <td>...</td>\n",
       "      <td>...</td>\n",
       "      <td>...</td>\n",
       "    </tr>\n",
       "    <tr>\n",
       "      <th>52896</th>\n",
       "      <td>2020</td>\n",
       "      <td>10</td>\n",
       "      <td>Sant Martí</td>\n",
       "      <td>73</td>\n",
       "      <td>la Verneda i la Pau</td>\n",
       "      <td>143</td>\n",
       "      <td>Turismes</td>\n",
       "      <td>D'11 a 20 anys</td>\n",
       "      <td>242</td>\n",
       "    </tr>\n",
       "    <tr>\n",
       "      <th>52897</th>\n",
       "      <td>2020</td>\n",
       "      <td>10</td>\n",
       "      <td>Sant Martí</td>\n",
       "      <td>73</td>\n",
       "      <td>la Verneda i la Pau</td>\n",
       "      <td>143</td>\n",
       "      <td>Turismes</td>\n",
       "      <td>Més de 20 anys</td>\n",
       "      <td>51</td>\n",
       "    </tr>\n",
       "    <tr>\n",
       "      <th>52946</th>\n",
       "      <td>2020</td>\n",
       "      <td>NC</td>\n",
       "      <td>No consta</td>\n",
       "      <td>NC</td>\n",
       "      <td>No consta</td>\n",
       "      <td>NC</td>\n",
       "      <td>Turismes</td>\n",
       "      <td>10 anys</td>\n",
       "      <td>2</td>\n",
       "    </tr>\n",
       "    <tr>\n",
       "      <th>52947</th>\n",
       "      <td>2020</td>\n",
       "      <td>NC</td>\n",
       "      <td>No consta</td>\n",
       "      <td>NC</td>\n",
       "      <td>No consta</td>\n",
       "      <td>NC</td>\n",
       "      <td>Turismes</td>\n",
       "      <td>D'11 a 20 anys</td>\n",
       "      <td>56</td>\n",
       "    </tr>\n",
       "    <tr>\n",
       "      <th>52948</th>\n",
       "      <td>2020</td>\n",
       "      <td>NC</td>\n",
       "      <td>No consta</td>\n",
       "      <td>NC</td>\n",
       "      <td>No consta</td>\n",
       "      <td>NC</td>\n",
       "      <td>Turismes</td>\n",
       "      <td>Més de 20 anys</td>\n",
       "      <td>42</td>\n",
       "    </tr>\n",
       "  </tbody>\n",
       "</table>\n",
       "<p>3207 rows × 9 columns</p>\n",
       "</div>"
      ],
      "text/plain": [
       "        Any Codi_Districte Nom_Districte Codi_Barri            Nom_Barri  \\\n",
       "10     2020              1  Ciutat Vella          1             el Raval   \n",
       "11     2020              1  Ciutat Vella          1             el Raval   \n",
       "12     2020              1  Ciutat Vella          1             el Raval   \n",
       "72     2020              1  Ciutat Vella          1             el Raval   \n",
       "73     2020              1  Ciutat Vella          1             el Raval   \n",
       "...     ...            ...           ...        ...                  ...   \n",
       "52896  2020             10    Sant Martí         73  la Verneda i la Pau   \n",
       "52897  2020             10    Sant Martí         73  la Verneda i la Pau   \n",
       "52946  2020             NC     No consta         NC            No consta   \n",
       "52947  2020             NC     No consta         NC            No consta   \n",
       "52948  2020             NC     No consta         NC            No consta   \n",
       "\n",
       "      Seccio_Censal Tipus_Vehicles      Antiguitat  Nombre  \n",
       "10                1       Turismes         10 anys      15  \n",
       "11                1       Turismes  D'11 a 20 anys     132  \n",
       "12                1       Turismes  Més de 20 anys      70  \n",
       "72                2       Turismes         10 anys       5  \n",
       "73                2       Turismes  D'11 a 20 anys      90  \n",
       "...             ...            ...             ...     ...  \n",
       "52896           143       Turismes  D'11 a 20 anys     242  \n",
       "52897           143       Turismes  Més de 20 anys      51  \n",
       "52946            NC       Turismes         10 anys       2  \n",
       "52947            NC       Turismes  D'11 a 20 anys      56  \n",
       "52948            NC       Turismes  Més de 20 anys      42  \n",
       "\n",
       "[3207 rows x 9 columns]"
      ]
     },
     "execution_count": 17,
     "metadata": {},
     "output_type": "execute_result"
    }
   ],
   "source": [
    "df_pd[(df_pd['Antiguitat'].isin([\"10 anys\", \"D'11 a 20 anys\", \"Més de 20 anys\"])) & (df_pd['Tipus_Vehicles'] == \"Turismes\")]"
   ]
  },
  {
   "cell_type": "code",
   "execution_count": 18,
   "metadata": {},
   "outputs": [
    {
     "data": {
      "text/html": [
       "<div>\n",
       "<style scoped>\n",
       "    .dataframe tbody tr th:only-of-type {\n",
       "        vertical-align: middle;\n",
       "    }\n",
       "\n",
       "    .dataframe tbody tr th {\n",
       "        vertical-align: top;\n",
       "    }\n",
       "\n",
       "    .dataframe thead th {\n",
       "        text-align: right;\n",
       "    }\n",
       "</style>\n",
       "<table border=\"1\" class=\"dataframe\">\n",
       "  <thead>\n",
       "    <tr style=\"text-align: right;\">\n",
       "      <th></th>\n",
       "      <th>Any</th>\n",
       "      <th>Codi_Districte</th>\n",
       "      <th>Nom_Districte</th>\n",
       "      <th>Codi_Barri</th>\n",
       "      <th>Nom_Barri</th>\n",
       "      <th>Seccio_Censal</th>\n",
       "      <th>Tipus_Vehicles</th>\n",
       "      <th>Antiguitat</th>\n",
       "      <th>Nombre</th>\n",
       "    </tr>\n",
       "  </thead>\n",
       "  <tbody>\n",
       "    <tr>\n",
       "      <th>10</th>\n",
       "      <td>2020</td>\n",
       "      <td>1</td>\n",
       "      <td>Ciutat Vella</td>\n",
       "      <td>1</td>\n",
       "      <td>el Raval</td>\n",
       "      <td>1</td>\n",
       "      <td>Turismes</td>\n",
       "      <td>10 anys</td>\n",
       "      <td>15</td>\n",
       "    </tr>\n",
       "    <tr>\n",
       "      <th>11</th>\n",
       "      <td>2020</td>\n",
       "      <td>1</td>\n",
       "      <td>Ciutat Vella</td>\n",
       "      <td>1</td>\n",
       "      <td>el Raval</td>\n",
       "      <td>1</td>\n",
       "      <td>Turismes</td>\n",
       "      <td>D'11 a 20 anys</td>\n",
       "      <td>132</td>\n",
       "    </tr>\n",
       "    <tr>\n",
       "      <th>12</th>\n",
       "      <td>2020</td>\n",
       "      <td>1</td>\n",
       "      <td>Ciutat Vella</td>\n",
       "      <td>1</td>\n",
       "      <td>el Raval</td>\n",
       "      <td>1</td>\n",
       "      <td>Turismes</td>\n",
       "      <td>Més de 20 anys</td>\n",
       "      <td>70</td>\n",
       "    </tr>\n",
       "    <tr>\n",
       "      <th>72</th>\n",
       "      <td>2020</td>\n",
       "      <td>1</td>\n",
       "      <td>Ciutat Vella</td>\n",
       "      <td>1</td>\n",
       "      <td>el Raval</td>\n",
       "      <td>2</td>\n",
       "      <td>Turismes</td>\n",
       "      <td>10 anys</td>\n",
       "      <td>5</td>\n",
       "    </tr>\n",
       "    <tr>\n",
       "      <th>73</th>\n",
       "      <td>2020</td>\n",
       "      <td>1</td>\n",
       "      <td>Ciutat Vella</td>\n",
       "      <td>1</td>\n",
       "      <td>el Raval</td>\n",
       "      <td>2</td>\n",
       "      <td>Turismes</td>\n",
       "      <td>D'11 a 20 anys</td>\n",
       "      <td>90</td>\n",
       "    </tr>\n",
       "    <tr>\n",
       "      <th>...</th>\n",
       "      <td>...</td>\n",
       "      <td>...</td>\n",
       "      <td>...</td>\n",
       "      <td>...</td>\n",
       "      <td>...</td>\n",
       "      <td>...</td>\n",
       "      <td>...</td>\n",
       "      <td>...</td>\n",
       "      <td>...</td>\n",
       "    </tr>\n",
       "    <tr>\n",
       "      <th>52896</th>\n",
       "      <td>2020</td>\n",
       "      <td>10</td>\n",
       "      <td>Sant Martí</td>\n",
       "      <td>73</td>\n",
       "      <td>la Verneda i la Pau</td>\n",
       "      <td>143</td>\n",
       "      <td>Turismes</td>\n",
       "      <td>D'11 a 20 anys</td>\n",
       "      <td>242</td>\n",
       "    </tr>\n",
       "    <tr>\n",
       "      <th>52897</th>\n",
       "      <td>2020</td>\n",
       "      <td>10</td>\n",
       "      <td>Sant Martí</td>\n",
       "      <td>73</td>\n",
       "      <td>la Verneda i la Pau</td>\n",
       "      <td>143</td>\n",
       "      <td>Turismes</td>\n",
       "      <td>Més de 20 anys</td>\n",
       "      <td>51</td>\n",
       "    </tr>\n",
       "    <tr>\n",
       "      <th>52946</th>\n",
       "      <td>2020</td>\n",
       "      <td>NC</td>\n",
       "      <td>No consta</td>\n",
       "      <td>NC</td>\n",
       "      <td>No consta</td>\n",
       "      <td>NC</td>\n",
       "      <td>Turismes</td>\n",
       "      <td>10 anys</td>\n",
       "      <td>2</td>\n",
       "    </tr>\n",
       "    <tr>\n",
       "      <th>52947</th>\n",
       "      <td>2020</td>\n",
       "      <td>NC</td>\n",
       "      <td>No consta</td>\n",
       "      <td>NC</td>\n",
       "      <td>No consta</td>\n",
       "      <td>NC</td>\n",
       "      <td>Turismes</td>\n",
       "      <td>D'11 a 20 anys</td>\n",
       "      <td>56</td>\n",
       "    </tr>\n",
       "    <tr>\n",
       "      <th>52948</th>\n",
       "      <td>2020</td>\n",
       "      <td>NC</td>\n",
       "      <td>No consta</td>\n",
       "      <td>NC</td>\n",
       "      <td>No consta</td>\n",
       "      <td>NC</td>\n",
       "      <td>Turismes</td>\n",
       "      <td>Més de 20 anys</td>\n",
       "      <td>42</td>\n",
       "    </tr>\n",
       "  </tbody>\n",
       "</table>\n",
       "<p>3207 rows × 9 columns</p>\n",
       "</div>"
      ],
      "text/plain": [
       "        Any Codi_Districte Nom_Districte Codi_Barri            Nom_Barri  \\\n",
       "10     2020              1  Ciutat Vella          1             el Raval   \n",
       "11     2020              1  Ciutat Vella          1             el Raval   \n",
       "12     2020              1  Ciutat Vella          1             el Raval   \n",
       "72     2020              1  Ciutat Vella          1             el Raval   \n",
       "73     2020              1  Ciutat Vella          1             el Raval   \n",
       "...     ...            ...           ...        ...                  ...   \n",
       "52896  2020             10    Sant Martí         73  la Verneda i la Pau   \n",
       "52897  2020             10    Sant Martí         73  la Verneda i la Pau   \n",
       "52946  2020             NC     No consta         NC            No consta   \n",
       "52947  2020             NC     No consta         NC            No consta   \n",
       "52948  2020             NC     No consta         NC            No consta   \n",
       "\n",
       "      Seccio_Censal Tipus_Vehicles      Antiguitat  Nombre  \n",
       "10                1       Turismes         10 anys      15  \n",
       "11                1       Turismes  D'11 a 20 anys     132  \n",
       "12                1       Turismes  Més de 20 anys      70  \n",
       "72                2       Turismes         10 anys       5  \n",
       "73                2       Turismes  D'11 a 20 anys      90  \n",
       "...             ...            ...             ...     ...  \n",
       "52896           143       Turismes  D'11 a 20 anys     242  \n",
       "52897           143       Turismes  Més de 20 anys      51  \n",
       "52946            NC       Turismes         10 anys       2  \n",
       "52947            NC       Turismes  D'11 a 20 anys      56  \n",
       "52948            NC       Turismes  Més de 20 anys      42  \n",
       "\n",
       "[3207 rows x 9 columns]"
      ]
     },
     "execution_count": 18,
     "metadata": {},
     "output_type": "execute_result"
    }
   ],
   "source": [
    "# Code snippet without the isin()\n",
    "df_pd[\n",
    "        ((df_pd['Antiguitat'] == \"10 anys\") |\n",
    "         (df_pd['Antiguitat'] == \"D'11 a 20 anys\") |\n",
    "         (df_pd['Antiguitat'] == \"Més de 20 anys\")\n",
    "        ) &\n",
    "        (df_pd['Tipus_Vehicles'] == \"Turismes\")\n",
    "     ]"
   ]
  },
  {
   "cell_type": "markdown",
   "metadata": {},
   "source": [
    "### **Question #7**\n",
    "\n",
    "Answer the question: what are the 5 (only 5) neighbourhoods (nom_barri) with more cars (Tipus_Vehicles equal Turismes) of age 20 years or more (Antiguitat equals 'Més de 20 anys'). You need to group by nom_barri, aggregating by Nombre and sorting by Nombre descending and keeping only the first 5 rows. Remember the as_index in the groupby or yow will have trouble sorting. (20 points)"
   ]
  },
  {
   "cell_type": "code",
   "execution_count": 19,
   "metadata": {},
   "outputs": [
    {
     "name": "stdout",
     "output_type": "stream",
     "text": [
      "Wall time: 8.11 ms\n"
     ]
    },
    {
     "data": {
      "text/html": [
       "<div>\n",
       "<style scoped>\n",
       "    .dataframe tbody tr th:only-of-type {\n",
       "        vertical-align: middle;\n",
       "    }\n",
       "\n",
       "    .dataframe tbody tr th {\n",
       "        vertical-align: top;\n",
       "    }\n",
       "\n",
       "    .dataframe thead th {\n",
       "        text-align: right;\n",
       "    }\n",
       "</style>\n",
       "<table border=\"1\" class=\"dataframe\">\n",
       "  <thead>\n",
       "    <tr style=\"text-align: right;\">\n",
       "      <th></th>\n",
       "      <th>Nom_Barri</th>\n",
       "      <th>Nombre</th>\n",
       "    </tr>\n",
       "  </thead>\n",
       "  <tbody>\n",
       "    <tr>\n",
       "      <th>0</th>\n",
       "      <td>Baró de Viver</td>\n",
       "      <td>389</td>\n",
       "    </tr>\n",
       "    <tr>\n",
       "      <th>1</th>\n",
       "      <td>Can Baró</td>\n",
       "      <td>1405</td>\n",
       "    </tr>\n",
       "    <tr>\n",
       "      <th>2</th>\n",
       "      <td>Can Peguera</td>\n",
       "      <td>337</td>\n",
       "    </tr>\n",
       "    <tr>\n",
       "      <th>3</th>\n",
       "      <td>Canyelles</td>\n",
       "      <td>1303</td>\n",
       "    </tr>\n",
       "    <tr>\n",
       "      <th>4</th>\n",
       "      <td>Ciutat Meridiana</td>\n",
       "      <td>1608</td>\n",
       "    </tr>\n",
       "  </tbody>\n",
       "</table>\n",
       "</div>"
      ],
      "text/plain": [
       "          Nom_Barri  Nombre\n",
       "0     Baró de Viver     389\n",
       "1          Can Baró    1405\n",
       "2       Can Peguera     337\n",
       "3         Canyelles    1303\n",
       "4  Ciutat Meridiana    1608"
      ]
     },
     "execution_count": 19,
     "metadata": {},
     "output_type": "execute_result"
    }
   ],
   "source": [
    "%%time\n",
    "# Pandas solution\n",
    "\n",
    "# Filter DataFrame where 'Tipus_Vehicles' is 'Turismes' and 'Antiguitat' is 20 years or more, \n",
    "# then group by 'Nom_Barri', and sum 'Nombre'\n",
    "df_pd[\n",
    "      (df_pd['Antiguitat'].isin([\"D'11 a 20 anys\", \"Més de 20 anys\"])) & \n",
    "      (df_pd['Tipus_Vehicles'] == \"Turismes\")\n",
    "     ] \\\n",
    "      .groupby('Nom_Barri', as_index=False)['Nombre'] \\\n",
    "      .sum() \\\n",
    "      .head(5) # Dsiplaying the 5 first records"
   ]
  },
  {
   "cell_type": "code",
   "execution_count": 20,
   "metadata": {},
   "outputs": [
    {
     "name": "stdout",
     "output_type": "stream",
     "text": [
      "shape: (5, 2)\n",
      "┌───────────────────────────────────┬────────┐\n",
      "│ Nom_Barri                         ┆ Nombre │\n",
      "│ ---                               ┆ ---    │\n",
      "│ str                               ┆ i64    │\n",
      "╞═══════════════════════════════════╪════════╡\n",
      "│ el Parc i la Llacuna del Pobleno… ┆ 2254   │\n",
      "│ el Poble Sec - AEI Parc Montjuïc  ┆ 4697   │\n",
      "│ la Nova Esquerra de l'Eixample    ┆ 8337   │\n",
      "│ Sant Gervasi - Galvany            ┆ 9731   │\n",
      "│ la Verneda i la Pau               ┆ 4656   │\n",
      "└───────────────────────────────────┴────────┘\n",
      "Wall time: 41.3 ms\n"
     ]
    }
   ],
   "source": [
    "%%time\n",
    "# Polars solution\n",
    "\n",
    "# Filtering the DataFrame where 'Tipus_Vehicles' is 'Turismes' and 'Antiguitat' is 20 years or more\n",
    "# then group by 'Nom_Barri', and sum 'Nombre'\n",
    "print(df_pl.filter(\n",
    "                (df_pl['Tipus_Vehicles'] == 'Turismes') & \n",
    "                ((df_pl['Antiguitat'] == \"D'11 a 20 anys\") | (df_pl['Antiguitat'] == \"Més de 20 anys\"))\n",
    "            ) \\\n",
    "                .group_by('Nom_Barri') \\\n",
    "                .agg(pl.col('Nombre').sum().alias('Nombre')) \\\n",
    "                .slice(0, 5)) # Displaying the first 5 records\n"
   ]
  },
  {
   "cell_type": "markdown",
   "metadata": {},
   "source": [
    "### **Final Note on Pandas vs Polars Performance**\n",
    "\n",
    "Upon examining the execution times recorded in each exercise, an intriguing observation emerges: Polars consistently exhibits extended execution times compared to Pandas. This raises a question - is Polars inherently slower than Pandas?\n",
    "\n",
    "There could be several factors contributing to this observed disparity in performance:\n",
    "\n",
    "##### 1. Data Size:\n",
    "   - **Small Data:** Polars is optimized for performance on large datasets. For smaller datasets, the overhead of optimizations can actually make Polars slower than pandas.\n",
    "\n",
    "##### 2. Optimizations:\n",
    "   - **Algorithms and Optimizations:** The specific algorithms and optimizations used by Polars might not always be as efficient for every type of operation or data. Some operations might be highly optimized in pandas after years of development and contributions.\n",
    "\n",
    "##### 3. Multi-threading:\n",
    "   - **Concurrency Model:** Polars uses a multi-threaded model which should make it faster for large datasets, but for smaller ones, the overhead of thread management could make it slower.\n",
    "\n",
    "\n",
    "##### 4. Specific Operations:\n",
    "   - **Operation Types:** Some operations might be optimized better in one library over the other. It can depend heavily on the specific use case or operation being performed.\n",
    "\n",
    "##### 5. Implementation Language:\n",
    "   - **Python vs Rust:** Polars is written in Rust, which is generally faster than Python. However, the interfacing between Python and Rust (when using Polars from Python) can sometimes introduce overhead."
   ]
  },
  {
   "cell_type": "markdown",
   "metadata": {},
   "source": [
    "### **Personal Reflection and Future Exploration**\n",
    "\n",
    "I found this initial comparison between the Polars and Pandas libraries quite enlightening and I'm eager to extend this exploration with larger datasets for a more thorough analysis. In this context, Polars seemed somewhat overcooked, particularly considering its less extensive documentation and community support compared to Pandas, which can make it slightly more challenging to navigate.\n",
    "\n",
    "However, on a positive note, I was drawn to the syntax of Polars for its resemblance to SQL commands, adding an intuitive aspect to its application. Despite the current limitations, there’s an evident potential in Polars that piques my curiosity. \n",
    "\n",
    "As I move forward, a detailed analysis utilizing more complex and larger datasets will provide clearer insights into the strengths and weaknesses of each library, offering a comprehensive view of their practical applicability and performance efficiency."
   ]
  }
 ],
 "metadata": {
  "kernelspec": {
   "display_name": "Python 3",
   "language": "python",
   "name": "python3"
  },
  "language_info": {
   "codemirror_mode": {
    "name": "ipython",
    "version": 3
   },
   "file_extension": ".py",
   "mimetype": "text/x-python",
   "name": "python",
   "nbconvert_exporter": "python",
   "pygments_lexer": "ipython3",
   "version": "3.8.12"
  }
 },
 "nbformat": 4,
 "nbformat_minor": 2
}
